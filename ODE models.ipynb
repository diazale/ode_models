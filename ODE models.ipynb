{
 "cells": [
  {
   "cell_type": "markdown",
   "metadata": {},
   "source": [
    "# ODEs for modelling populations"
   ]
  },
  {
   "cell_type": "code",
   "execution_count": 1,
   "metadata": {},
   "outputs": [
    {
     "data": {
      "application/javascript": [
       "MathJax.Hub.Config({\n",
       "    TeX: { equationNumbers: { autoNumber: \"AMS\" } }\n",
       "});"
      ],
      "text/plain": [
       "<IPython.core.display.Javascript object>"
      ]
     },
     "metadata": {},
     "output_type": "display_data"
    }
   ],
   "source": [
    "%%javascript\n",
    "MathJax.Hub.Config({\n",
    "    TeX: { equationNumbers: { autoNumber: \"AMS\" } }\n",
    "});"
   ]
  },
  {
   "cell_type": "markdown",
   "metadata": {},
   "source": [
    "# Models of population growth\n",
    "\n",
    "Let's say you're interested in modeling population growth. One popular model is that the growth is proportional to the size of the population. This is a reasonable assumption for animals/baceteria/viruses under ideal conditions. There are two variables to begin with:\n",
    "\n",
    "* $ t $, the time point (independent variable)\n",
    "* $P $, the population size (dependent variable)\n",
    "\n",
    "We want to know the change in $P$ over $t$, so we model this as:\n",
    "\\begin{align}\n",
    "    \\frac{dP}{dt} = kP \\label{eq1}\n",
    "\\end{align}\n",
    "\n",
    "where $k$ is the proportionality constant.\n",
    "\n",
    "What are the consequences of this model? We may assume that the population cannot be $0$, so $P(t) > 0$ for all $t$. If $k > 0 $, then by equation (\\ref{eq1}) we have $P'(t) > 0$ for all $t$. In other words, the population is always increasing, and as the population $P$ grows larger, the derivative $\\frac{dP}{dt}$ grows larger; the growth rate increases with the population size.\n",
    "\n",
    "This function is a constant multiple of itself. The unique family to this solution is $P(t) = Ce^{kt}$, for varying $C$. Then:\n",
    "\n",
    "$$ P'(t) = C(ke^{kt}) = k(Ce^{kt}) = kP(t) $$\n",
    "\n",
    "Since populations can only be positive, we only care about $C > 0$. Generally we also only care about $t \\ge 0$ as well.\n",
    "\n",
    "Plugging in the value $t=0$ we see that \n",
    "\n",
    "$$P(0) = Ce^{k(0)} = C$$\n",
    "\n",
    "Meaning that our initial population is $C$.\n",
    "\n",
    "The summary of variables so far is:\n",
    "* $t$ (time)\n",
    "* $P(t)$ (population at time $t$)\n",
    "* $k$, some proportionality constant\n",
    "* $C$, the starting population\n",
    "\n",
    "This model is not fully realistic as even under ideal conditions populations will hit a **carrying capacity ($K$)** related to resources, habitats, space, etc. Usually what happens is the population levels off as it approaches $K$, and if the population exceeds its capacity, it shrinks. Thus we formulate two assumptions:\n",
    "\n",
    "* $\\frac{dP}{dt} \\approx kP$ when $P$ is small (growth starts out proportional to P)\n",
    "* $\\frac{dP}{dt} < 0$ if $P > K$\n",
    "\n",
    "We can summarize these in one expression:\n",
    "\\begin{align}\n",
    "    \\frac{dP}{dt} = kP(1 - \\frac{P}{K}) \\label{eq2}\n",
    "\\end{align}\n",
    "\n",
    "This is called the **logistic differential equation**. Notice that:\n",
    "\n",
    "* if $P$ is small relative to $K$, then $\\frac{P}{K} \\approx 0$ and $\\frac{dP}{dt} \\approx kP$\n",
    "* there are two solutions to equation (\\ref{eq2}): $P(t) = 0$ and $P(t) = K$. When our population is $0$ or our population is at capacity $K$, the growth rate $\\frac{dP}{dt}=0$\n",
    " * These are **equilibrium solutions**\n",
    "\n",
    "When is the right side of equation (\\ref{eq2}) negative? When is it positive? Consider the implications of such a model.\n",
    "\n",
    "# Solving differential equations\n",
    "\n",
    "Most differential equations don't have an explicit solution, meaning we must use graphical and numerical approaches."
   ]
  },
  {
   "cell_type": "markdown",
   "metadata": {},
   "source": []
  },
  {
   "cell_type": "code",
   "execution_count": null,
   "metadata": {},
   "outputs": [],
   "source": [
    "#see $(\\ref{eq1})$"
   ]
  },
  {
   "cell_type": "code",
   "execution_count": null,
   "metadata": {},
   "outputs": [],
   "source": []
  },
  {
   "cell_type": "code",
   "execution_count": null,
   "metadata": {},
   "outputs": [],
   "source": []
  },
  {
   "cell_type": "code",
   "execution_count": null,
   "metadata": {},
   "outputs": [],
   "source": []
  },
  {
   "cell_type": "code",
   "execution_count": null,
   "metadata": {},
   "outputs": [],
   "source": []
  },
  {
   "cell_type": "markdown",
   "metadata": {},
   "source": [
    "# References\n",
    "\n",
    "* Stewart, James. _Calculus: Early Transcendentals Single Variable_, 5th edition, Chapter 9."
   ]
  },
  {
   "cell_type": "markdown",
   "metadata": {},
   "source": [
    "# Sandbox"
   ]
  },
  {
   "cell_type": "code",
   "execution_count": 2,
   "metadata": {},
   "outputs": [
    {
     "data": {
      "image/png": "[encoded data removed]",
      "text/plain": [
       "<Figure size 432x288 with 1 Axes>"
      ]
     },
     "metadata": {},
     "output_type": "display_data"
    }
   ],
   "source": [
    "# https://stackoverflow.com/questions/14739555/code-for-logistic-equation\n",
    "\n",
    "import numpy as np\n",
    "import matplotlib.pyplot as plt\n",
    "import pylab\n",
    "import numpy\n",
    "\n",
    "def f(x, r):\n",
    "    \"\"\"Discrete logistic equation with parameter r\"\"\"\n",
    "    return r*x*(1-x)\n",
    "\n",
    "if __name__ == '__main__':\n",
    "    # initial condition for x\n",
    "    ys = []\n",
    "    rs = numpy.linspace(0, 4, 400)\n",
    "\n",
    "    # Loop through `rs`. `r` is assigned the values in `rs` one at a time. \n",
    "    for r in rs:\n",
    "        x = 0.1\n",
    "        # Repeat this loop 500 times. \n",
    "        # i is just a dummy variable since it is not used inside the for-loop.\n",
    "        for i in range(500):\n",
    "            # Evaluate f at (x, r). The return value is assigned to x.\n",
    "            # x is then fed back into f(x, r). \n",
    "            # This makes x jump around 500 times according to the logistic equation.\n",
    "            # r remains fixed.\n",
    "            x = f(x, r)\n",
    "\n",
    "        # Do this 50 times\n",
    "        for i in range(50):\n",
    "            # Again make the x jump around according to the logistic equation\n",
    "            x = f(x, r)\n",
    "            # Save the point (r, x) in the list ys\n",
    "            ys.append([r, x])\n",
    "\n",
    "    # ys is a list of lists.\n",
    "    # You can also think of ys as a list of [r, x] point.\n",
    "    # This converts the list of lists into a 2D numpy array.\n",
    "    ys = numpy.array(ys)\n",
    "\n",
    "    # ys[:,0] is a 1D array of r values\n",
    "    # ys[:, 1] is a 1D array of x values\n",
    "    # This draws a scatter plot of (r, x) points.\n",
    "    pylab.plot(ys[:,0], ys[:,1], '.')\n",
    "    pylab.show()"
   ]
  },
  {
   "cell_type": "code",
   "execution_count": 4,
   "metadata": {},
   "outputs": [],
   "source": [
    "# http://astro.pas.rochester.edu/~aquillen/phy411/pylab/logistic.py\n",
    "# plot periodic orbits and iterations for the logistic map  \n",
    "# \n",
    "import numpy as np\n",
    "import matplotlib.pyplot as plt\n",
    "\n",
    "# logistic map is f(x) = mu*x*(1-x)  with mu in (0,4)\n",
    "def logistic(x,mu):\n",
    "    y = mu*x*(1.0-x)\n",
    "    return y \n",
    "\n",
    "# fill an array with iteration n1 to n2 of the logistic map starting with x0\n",
    "# and with parameter mu\n",
    "def fillit(n1,n2,x0,mu):\n",
    "    x = x0  # initial x value\n",
    "    z = np.linspace(0.0,1.0,n2-n1)  # create an array\n",
    "    for i in range(0,n1):   # do n1 iterations\n",
    "        x = logistic(x,mu)\n",
    "        \n",
    "    for i in range(0,n2-n1):   # fill n2-n1 iterations\n",
    "        x = logistic(x,mu)\n",
    "        z[i] = x\n",
    "\n",
    "    return z  # returning the array\n",
    "\n",
    "\n",
    "# plot the iterated logistic map for nmu number of mu values\n",
    "def mkplot(mu_min,nmu):  # nmu is number of mu values to use, mu_min range \n",
    "    mu_max = 4.0  # maximum mu value\n",
    "    muarr = np.linspace(mu_min,mu_max,nmu)  \n",
    "    n1=100  #specify iteration range\n",
    "    n2=200  \n",
    "    x0=0.5  # initial x\n",
    "    for i in range(0,nmu):\n",
    "        mu = muarr[i]\n",
    "        y=fillit(n1,n2,x0,mu)  # get the array of iterations\n",
    "        x=y*0.0 + mu   # dummy x value is all mu \n",
    "        plt.plot(x,y,'ko',markersize=1)   # k=black, plot small points\n",
    "\n",
    "\n",
    "\n",
    "plt.figure()\n",
    "plt.xlabel(r'$\\mu$',fontsize=20)\n",
    "mu_min=2.9\n",
    "plt.axis([mu_min, 4.0, 0, 1.0])\n",
    "# this makes the plot!\n",
    "mkplot(mu_min,1000)"
   ]
  },
  {
   "cell_type": "code",
   "execution_count": null,
   "metadata": {},
   "outputs": [],
   "source": []
  }
 ],
 "metadata": {
  "kernelspec": {
   "display_name": "Python 3",
   "language": "python",
   "name": "python3"
  },
  "language_info": {
   "codemirror_mode": {
    "name": "ipython",
    "version": 3
   },
   "file_extension": ".py",
   "mimetype": "text/x-python",
   "name": "python",
   "nbconvert_exporter": "python",
   "pygments_lexer": "ipython3",
   "version": "3.6.8"
  }
 },
 "nbformat": 4,
 "nbformat_minor": 2
}
