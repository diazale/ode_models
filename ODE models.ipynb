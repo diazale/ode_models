{
 "cells": [
  {
   "cell_type": "markdown",
   "metadata": {},
   "source": [
    "The cell below is necessary for equation labels:"
   ]
  },
  {
   "cell_type": "code",
   "execution_count": null,
   "metadata": {},
   "outputs": [],
   "source": [
    "%%javascript\n",
    "MathJax.Hub.Config({\n",
    "    TeX: { equationNumbers: { autoNumber: \"AMS\" } }\n",
    "});"
   ]
  },
  {
   "cell_type": "markdown",
   "metadata": {},
   "source": [
    "# Models of population growth\n",
    "\n",
    "Let's say you're interested in modeling population growth. One popular model is that the growth is proportional to the size of the population. This is a reasonable assumption for animals/baceteria/viruses under ideal conditions. There are two variables to begin with:\n",
    "\n",
    "* $ t $, the time point (independent variable)\n",
    "* $P $, the population size (dependent variable)\n",
    "\n",
    "We want to know the change in $P$ over $t$, so we model this as:\n",
    "\\begin{align}\n",
    "    \\frac{dP}{dt} = kP \\label{eq1}\n",
    "\\end{align}\n",
    "\n",
    "where $k$ is the proportionality constant.\n",
    "\n",
    "What are the consequences of this model? We may assume that the population cannot be $0$, so $P(t) > 0$ for all $t$. If $k > 0 $, then by equation (\\ref{eq1}) we have $P'(t) > 0$ for all $t$. In other words, the population is always increasing, and as the population $P$ grows larger, the derivative $\\frac{dP}{dt}$ grows larger; the growth rate increases with the population size.\n",
    "\n",
    "This function is a constant multiple of itself. The unique family to this solution is $P(t) = Ce^{kt}$, for varying $C$. Then:\n",
    "\n",
    "$$ P'(t) = C(ke^{kt}) = k(Ce^{kt}) = kP(t) $$\n",
    "\n",
    "Since populations can only be positive, we only care about $C > 0$. Generally we also only care about $t \\ge 0$ as well.\n",
    "\n",
    "Plugging in the value $t=0$ we see that \n",
    "\n",
    "$$P(0) = Ce^{k(0)} = C$$\n",
    "\n",
    "Meaning that our initial population is $C$.\n",
    "\n",
    "The summary of variables so far is:\n",
    "* $t$ (time)\n",
    "* $P(t)$ (population at time $t$)\n",
    "* $k$, some proportionality constant\n",
    "* $C$, the starting population\n",
    "\n",
    "This model is not fully realistic as even under ideal conditions populations will hit a **carrying capacity ($K$)** related to resources, habitats, space, etc. Usually what happens is the population levels off as it approaches $K$, and if the population exceeds its capacity, it shrinks. Thus we formulate two assumptions:\n",
    "\n",
    "* $\\frac{dP}{dt} \\approx kP$ when $P$ is small (growth starts out proportional to P)\n",
    "* $\\frac{dP}{dt} < 0$ if $P > K$\n",
    "\n",
    "We can summarize these in one expression:\n",
    "\\begin{align}\n",
    "    \\frac{dP}{dt} = kP(1 - \\frac{P}{K}) \\label{eq2}\n",
    "\\end{align}\n",
    "\n",
    "This is called the **logistic differential equation**. Notice that:\n",
    "\n",
    "* if $P$ is small relative to $K$, then $\\frac{P}{K} \\approx 0$ and $\\frac{dP}{dt} \\approx kP$\n",
    "* there are two solutions to equation (\\ref{eq2}): $P(t) = 0$ and $P(t) = K$\n",
    " * these are **equilibrium solutions**\n",
    " * an equilibrium point is stable if a small perturbation of the solution from the equilibrium point decays in time\n",
    " * an equilibrium point is unstable if it grows in time\n",
    "\n",
    "**Questions:** \n",
    "* When is the right side of equation (\\ref{eq2}) negative? When is it positive? Consider the implications of such a model.\n",
    "* What's happening to our growth rate when we're at the equilibrium solutions? What are the interpretations?\n",
    "* How could you modify the equation to include a constant harvest rate, $c$?\n",
    "* Some species require a minimum population $m$. For example, having too few mates nearby can lead to extinction even though there may be many individuals over a large area. How could you include a minimum population $m$?\n",
    " * Hint: Set up a term similar to $(1 - \\frac{P}{K})$ that becomes negative when $P < m$\n",
    "\n",
    "## The law of natural growth/decay\n",
    "\n",
    "One differential equation, known as the law of natural growth/decay, is extremely common across fields. It follows the form\n",
    "\n",
    "$$\\frac{dy}{dt} = ky$$\n",
    "$$ y(0) = y_0$$\n",
    "\n",
    "and has the solution\n",
    "\n",
    "$$y(t) = y_{0}e^{kt}$$\n",
    "\n",
    "Recall the form of equation (\\ref{eq1}): $\\frac{dP}{dt} = kP \\Leftrightarrow \\frac{1}{P}\\frac{dP}{dt}=k$. Then $k$ is the growth rate divided by population size; it is the **relative growth rate**. If $t$ is measured in years, and the relative growth rate is $k=0.05$, the population grows at a relative rate of $5\\%$ per year. Mathematically, if the population at time $0$ is $P_0$: \n",
    "$P(t) = P_{0}e^{0.05t}$\n",
    "\n",
    "## Predator-prey systems\n",
    "\n",
    "Typically species do not live in isolation. One common model involves one species, the *prey*, which has a large food supply, and the *predator*, which eats the prey. For this example we will consider rabbits and wolves. The rabbit population will be modeled through $R(t)$, and the wolf population by $W(t)$. We assume:\n",
    "* if there are no wolves, the rabbit population grows exponentially as $\\frac{dR}{dt}=kR$, for some constant $k>0$\n",
    "* if there are no rabbits, the wolf population declines proportionally as $\\frac{dW}{dt}=-rW$, for some constant $r>0$\n",
    "* The main cause of death for prey is predation\n",
    "* The birth and survival rates of predators depend on the available food supply (prey)\n",
    "* The species interact in proportion to their population sizes\n",
    "\n",
    "One system that incorporates these assumptions is:\n",
    "\\begin{align}\n",
    "\\frac{dR}{dt} = kR - aRW \\label{eqR}\\\\\n",
    "\\frac{dW}{dt} = -rW + bRW \\label{eqW}\n",
    "\\end{align}\n",
    "Where $k, r, a, b$ are some positive constants.\n",
    "\n",
    "These equations are known as predator-prey equations, also known as **Lotka-Volterra equations**. The solution is a pair of a functions $R(t)$ and $W(t)$. These must be solved simultaneously and almost never have analytical solutions.\n",
    "\n",
    "### Example\n",
    "Consider a population of rabbits and wolves as described above. Suppose $k=0.08$, $r=0.02$, $a=0.001$, $b=0.00002$, with time $t$ measured in months. What are the constant (equilibrium) solutions? What are the interpretations?\n",
    "\n",
    "Plugging the given values into equations (\\ref{eqR}) and (\\ref{eqW}), we have:\n",
    "\n",
    "$$\\frac{dR}{dt}=0.08R - 0.001RW \\\\ \\frac{dW}{dt}=-0.02W + 0.00002RW$$\n",
    "\n",
    "The equations are constant when both derivatives are $0$, i.e. when:\n",
    "\n",
    "$$R'=R(0.08 - 0.001W)=0 \\\\ W'=W(-0.02 + 0.00002R)=0$$"
   ]
  },
  {
   "cell_type": "markdown",
   "metadata": {},
   "source": [
    "# Solving differential equations\n",
    "\n",
    "We consider **differential equations (DEs)**. These are equations that contain an unknown function one or more of its derivatives. The order of the differential equation is its highest derivative -- we are working with differential equations of degree 1. When our systems have multiple independent variables, we are working with **partial differential equations (PDEs)**. In our case, we are working with one independent variables, which we call **ordinary differential equations (ODEs)**. The independent variable can be anything but for us it's usually time.\n",
    "\n",
    "A function $f$ is called a **solution** of a differential equation if the equation is satisfied when $y=f(x)$ and its derivatives are substituted into the equation. When we solve a differential equation, we are finding all possible solutions of the equation. Typically we're not interested in finding the general solution, but rather a particular solution that satisfies a condition of the form $y(t_{0}) = y_{0}$ (an *initial condition*). This is an **initial-value problem**. Geometrically we're finding a family of curves that are solutions to the problem and picking one that passes through the point $(t_0, y_0)$. In the real world we measure the state of a system at time $t_0$ (e.g. population size) and use our solution to predict the future behaviour of the system.\n",
    "\n",
    "However, most differential equations don't have an explicit solution, meaning we must use graphical (direction fields) and numerical (Euler's method) approaches."
   ]
  },
  {
   "cell_type": "markdown",
   "metadata": {},
   "source": [
    "## Direction fields for Lotka-Volterra models\n",
    "\n",
    "This model is not quite similar to what we have above. It assumes:\n",
    "\n",
    "$$\\frac{du}{dt} = au - buv\\\\\n",
    "\\frac{dv}{dt} = -cv + dbu*v$$\n",
    "\n",
    "Also the constants aren't consistent. It's uhhh an exercise... You'll need to recalculate the Jacobian and sub that in."
   ]
  },
  {
   "cell_type": "code",
   "execution_count": null,
   "metadata": {},
   "outputs": [],
   "source": [
    "from numpy import *\n",
    "import pylab as p\n",
    "# Definition of parameters\n",
    "a = 1 # \n",
    "b = 0.1\n",
    "c = 1.5\n",
    "d = 0.75\n",
    "\n",
    "#a = 0.08\n",
    "#b = 0.001\n",
    "#c = 0.02\n",
    "#d = 0.00002"
   ]
  },
  {
   "cell_type": "code",
   "execution_count": null,
   "metadata": {},
   "outputs": [],
   "source": [
    "def dX_dt(X, t=0):\n",
    "    \"\"\" Return the growth rate of wolf and rabbit populations. \"\"\"\n",
    "    return array([ a*X[0] -   b*X[0]*X[1] ,\n",
    "                  -c*X[1] + d*b*X[0]*X[1] ])"
   ]
  },
  {
   "cell_type": "code",
   "execution_count": null,
   "metadata": {},
   "outputs": [],
   "source": [
    "def d2X_dt2(X, t=0):\n",
    "    \"\"\" Return the Jacobian matrix evaluated in X. \"\"\"\n",
    "    return array([[a -b*X[1],   -b*X[0]     ],\n",
    "                  [b*d*X[1] ,   -c +b*d*X[0]] ])"
   ]
  },
  {
   "cell_type": "code",
   "execution_count": null,
   "metadata": {},
   "outputs": [],
   "source": [
    "X_f0 = array([     0. ,  0.])\n",
    "X_f1 = array([ c/(d*b), a/b])"
   ]
  },
  {
   "cell_type": "code",
   "execution_count": null,
   "metadata": {},
   "outputs": [],
   "source": [
    "A_f0 = d2X_dt2(X_f0)"
   ]
  },
  {
   "cell_type": "code",
   "execution_count": null,
   "metadata": {},
   "outputs": [],
   "source": [
    "A_f1 = d2X_dt2(X_f1)"
   ]
  },
  {
   "cell_type": "code",
   "execution_count": null,
   "metadata": {},
   "outputs": [],
   "source": [
    "lambda1, lambda2 = linalg.eigvals(A_f1)"
   ]
  },
  {
   "cell_type": "code",
   "execution_count": null,
   "metadata": {},
   "outputs": [],
   "source": [
    "# Both eigenvalues are \n",
    "lambda1, lambda2"
   ]
  },
  {
   "cell_type": "code",
   "execution_count": null,
   "metadata": {},
   "outputs": [],
   "source": [
    "# They are imaginary numbers. The wolf and rabbit populations are periodic as follows from further\n",
    "# analysis. Their period is given by:\n",
    "T_f1 = 2*pi/abs(lambda1)"
   ]
  },
  {
   "cell_type": "markdown",
   "metadata": {},
   "source": [
    "### Integrating ODEs"
   ]
  },
  {
   "cell_type": "code",
   "execution_count": null,
   "metadata": {},
   "outputs": [],
   "source": [
    "from scipy import integrate\n",
    "t = linspace(0, 15,  1000)              # time\n",
    "X0 = array([10, 5])                     # initials conditions: 10 rabbits and 5 wolves\n",
    "X = integrate.odeint(dX_dt, X0, t)"
   ]
  },
  {
   "cell_type": "code",
   "execution_count": null,
   "metadata": {},
   "outputs": [],
   "source": [
    "rabbits, wolves = X.T\n",
    "f1 = p.figure()\n",
    "p.plot(t, rabbits, 'r-', label='Rabbits')\n",
    "p.plot(t, wolves  , 'b-', label='Wolves')\n",
    "p.grid()\n",
    "p.legend(loc='best')\n",
    "p.xlabel('time')\n",
    "p.ylabel('population')\n",
    "p.title('Evolution of wolf and rabbit populations')\n",
    "\n",
    "f1"
   ]
  },
  {
   "cell_type": "code",
   "execution_count": null,
   "metadata": {},
   "outputs": [],
   "source": [
    "values  = linspace(0.3, 0.9, 5)                          # position of X0 between X_f0 and X_f1\n",
    "vcolors = p.cm.autumn_r(linspace(0.3, 1., len(values)))  # colors for each trajectory\n",
    "\n",
    "f2 = p.figure()\n",
    "\n",
    "# plot trajectories\n",
    "for v, col in zip(values, vcolors):\n",
    "    X0 = v * X_f1                       # starting point\n",
    "    X = integrate.odeint(dX_dt, X0, t) # integrate\n",
    "    p.plot( X[:,0], X[:,1], lw=3.5*v, color=col, label='X0=(%.f, %.f)' % (X0[0], X0[1]))\n",
    "\n",
    "# define a grid and compute direction at each point\n",
    "ymax = p.ylim(bottom=0)[1]                        # get axis limits\n",
    "xmax = p.xlim(left=0)[1]\n",
    "nb_points = 20\n",
    "\n",
    "x = linspace(0, xmax, nb_points)\n",
    "y = linspace(0, ymax, nb_points)\n",
    "\n",
    "X1 , Y1  = meshgrid(x, y)                       # create a grid\n",
    "DX1, DY1 = dX_dt([X1, Y1])                      # compute growth rate on the gridt\n",
    "M = (hypot(DX1, DY1))                           # Norm of the growth rate \n",
    "M[ M == 0] = 1.                                 # Avoid zero division errors \n",
    "DX1 /= M                                        # Normalize each arrows\n",
    "DY1 /= M\n",
    "\n",
    "p.title('Trajectories and direction fields')\n",
    "Q = p.quiver(X1, Y1, DX1, DY1, M, pivot='mid', cmap=p.cm.jet) # map direction fields as arrows \n",
    "p.xlabel('Number of rabbits')\n",
    "p.ylabel('Number of wolves')\n",
    "p.legend()\n",
    "p.grid()\n",
    "p.xlim(0, xmax)\n",
    "p.ylim(0, ymax)\n",
    "\n",
    "f2"
   ]
  },
  {
   "cell_type": "markdown",
   "metadata": {},
   "source": [
    "# References\n",
    "\n",
    "* Stewart, James. _Calculus: Early Transcendentals Single Variable_, 5th edition, Chapter 9\n",
    "* Matplotlib: lotka volterra tutorial. https://scipy-cookbook.readthedocs.io/items/LoktaVolterraTutorial.html"
   ]
  }
 ],
 "metadata": {
  "kernelspec": {
   "display_name": "Python 3",
   "language": "python",
   "name": "python3"
  },
  "language_info": {
   "codemirror_mode": {
    "name": "ipython",
    "version": 3
   },
   "file_extension": ".py",
   "mimetype": "text/x-python",
   "name": "python",
   "nbconvert_exporter": "python",
   "pygments_lexer": "ipython3",
   "version": "3.6.8"
  }
 },
 "nbformat": 4,
 "nbformat_minor": 2
}
